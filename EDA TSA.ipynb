{
  "nbformat": 4,
  "nbformat_minor": 0,
  "metadata": {
    "colab": {
      "provenance": [],
      "authorship_tag": "ABX9TyNvGCIEQ88sRIww6IKgAGFI",
      "include_colab_link": true
    },
    "kernelspec": {
      "name": "python3",
      "display_name": "Python 3"
    },
    "language_info": {
      "name": "python"
    }
  },
  "cells": [
    {
      "cell_type": "markdown",
      "metadata": {
        "id": "view-in-github",
        "colab_type": "text"
      },
      "source": [
        "<a href=\"https://colab.research.google.com/github/dennistay1981/Resources/blob/main/EDA%20TSA.ipynb\" target=\"_parent\"><img src=\"https://colab.research.google.com/assets/colab-badge.svg\" alt=\"Open In Colab\"/></a>"
      ]
    },
    {
      "cell_type": "markdown",
      "source": [
        "Import libraries"
      ],
      "metadata": {
        "id": "pmaEdx7CxhkJ"
      }
    },
    {
      "cell_type": "code",
      "execution_count": null,
      "metadata": {
        "id": "SiJcZGmcqjU0"
      },
      "outputs": [],
      "source": [
        "!pip install pmdarima\n",
        "import pandas as pd\n",
        "import seaborn as sns\n",
        "import matplotlib.pyplot as plt\n",
        "import numpy as np\n",
        "from statsmodels.tsa.stattools import acf, pacf\n",
        "from statsmodels.graphics.tsaplots import plot_acf, plot_pacf\n",
        "from pmdarima import auto_arima\n",
        "from sklearn.metrics import mean_absolute_percentage_error\n",
        "from sklearn.metrics import r2_score"
      ]
    },
    {
      "cell_type": "markdown",
      "source": [
        "Import and plot data"
      ],
      "metadata": {
        "id": "3RfolwMPxbx5"
      }
    },
    {
      "cell_type": "code",
      "source": [
        "data = pd.read_csv('test.csv')\n",
        "plt.plot(data)\n",
        "plt.title('EDA for XXX condition (XXX.csv)')"
      ],
      "metadata": {
        "collapsed": true,
        "id": "j8tBv8mBqwNH"
      },
      "execution_count": null,
      "outputs": []
    },
    {
      "cell_type": "markdown",
      "source": [
        "Compute and plot (P)ACF"
      ],
      "metadata": {
        "id": "4DfpPe3qxKzR"
      }
    },
    {
      "cell_type": "code",
      "source": [
        "lag_acf = acf(data, nlags=20)\n",
        "lag_pacf = pacf(data, nlags=20, method='ols')\n",
        "\n",
        "\n",
        "plt.figure(figsize=(12, 6))\n",
        "plt.subplot(121)\n",
        "plot_acf(data, lags=20, ax=plt.gca())\n",
        "plt.subplot(122)\n",
        "plot_pacf(data, lags=20, method='ols', ax=plt.gca())\n",
        "plt.title('(P)ACF for XXX condition (XXX.csv)')\n",
        "plt.show()"
      ],
      "metadata": {
        "id": "1vX9s7_irF6J"
      },
      "execution_count": null,
      "outputs": []
    },
    {
      "cell_type": "markdown",
      "source": [
        "Auto fit best ARIMA model"
      ],
      "metadata": {
        "id": "wlHR5UCsxDq5"
      }
    },
    {
      "cell_type": "code",
      "source": [
        "model = auto_arima(data, start_p=0, start_q=0, test='adf', max_p=3, max_q=3, d=None,seasonal=True,\n",
        "                      start_P=0, D=None, trace=True,  error_action='ignore', suppress_warnings=True,\n",
        "                      stepwise=True)\n",
        "\n",
        "\n",
        "print(model.summary())"
      ],
      "metadata": {
        "collapsed": true,
        "id": "B6aRdncUswSi"
      },
      "execution_count": null,
      "outputs": []
    },
    {
      "cell_type": "markdown",
      "source": [
        "Plot data vs. predictions and evaluate model"
      ],
      "metadata": {
        "id": "j9LA-Tvow52C"
      }
    },
    {
      "cell_type": "code",
      "source": [
        "predictions = model.predict_in_sample()\n",
        "#Create axes\n",
        "x1 =np.arange(0, len(data))\n",
        "x3= np.arange(0, len(data))\n",
        "\n",
        "plt.plot(x3,data, label=\"actual\", color='dodgerblue')\n",
        "plt.plot(x1, predictions, label=\"predicions\",color='orange')\n",
        "plt.legend()\n",
        "plt.title('Actual vs. predicted for XXX condition (XXX.csv)')\n",
        "plt.show()\n",
        "\n",
        "\n",
        "print(\"RMSE:\", np.sqrt(np.mean((data -predictions) ** 2)))\n",
        "print(\"MAPE:\", mean_absolute_percentage_error(data, predictions) )\n",
        "print(\"R2:\", r2_score(data, predictions))"
      ],
      "metadata": {
        "id": "JMqEMUYQtWRK"
      },
      "execution_count": null,
      "outputs": []
    }
  ]
}