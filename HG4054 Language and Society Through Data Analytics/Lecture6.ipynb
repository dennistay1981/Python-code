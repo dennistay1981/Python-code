{
  "nbformat": 4,
  "nbformat_minor": 0,
  "metadata": {
    "colab": {
      "provenance": []
    },
    "kernelspec": {
      "name": "python3",
      "display_name": "Python 3"
    },
    "language_info": {
      "name": "python"
    }
  },
  "cells": [
    {
      "cell_type": "markdown",
      "source": [
        "Importing libraries and data"
      ],
      "metadata": {
        "id": "DWCPiL3_vxzk"
      }
    },
    {
      "cell_type": "code",
      "execution_count": 34,
      "metadata": {
        "id": "Tpokj6hmvkSM"
      },
      "outputs": [],
      "source": [
        "import numpy as np\n",
        "import pandas as pd\n",
        "import matplotlib.pyplot as plt\n",
        "import seaborn as sns\n",
        "\n",
        "from sklearn.neighbors import KNeighborsClassifier\n",
        "from sklearn import metrics\n",
        "\n",
        "data=pd.read_csv('Lecture6.csv',index_col='Country')"
      ]
    },
    {
      "cell_type": "markdown",
      "source": [
        "Display all columns and rows"
      ],
      "metadata": {
        "id": "gm2UrS6L2RvS"
      }
    },
    {
      "cell_type": "code",
      "source": [
        "pd.set_option('display.max_rows',None)\n",
        "pd.set_option('display.max_columns',None)\n",
        "pd.set_option('display.width', 1000)\n"
      ],
      "metadata": {
        "id": "TNJUeBY02W3y"
      },
      "execution_count": null,
      "outputs": []
    },
    {
      "cell_type": "markdown",
      "source": [
        "Visualizing the data"
      ],
      "metadata": {
        "id": "nd7MpEpW2cJE"
      }
    },
    {
      "cell_type": "code",
      "source": [
        "sns.scatterplot(data,y=\"Happiness\",x=\"GDP_pc\",hue='Regime')\n",
        "\n",
        "#log transform GDP_pc and plot again. Note that np.log takes the natural logarithm; i.e. base=Euler's number\n",
        "data['GDP_log']=np.log(data.GDP_pc)\n",
        "sns.scatterplot(data,y=\"Happiness\",x=\"GDP_log\",hue='Regime')\n"
      ],
      "metadata": {
        "id": "mQIO1L0i0B62"
      },
      "execution_count": null,
      "outputs": []
    },
    {
      "cell_type": "markdown",
      "source": [
        "Training K-NN classifier"
      ],
      "metadata": {
        "id": "qUwaPrAR2ZS8"
      }
    },
    {
      "cell_type": "markdown",
      "source": [],
      "metadata": {
        "id": "_pMPY5-64vkw"
      }
    },
    {
      "cell_type": "code",
      "source": [
        "# Define outcome and predictors\n",
        "y = data['Regime']\n",
        "x = data[['Happiness','GDP_log']]\n",
        "\n",
        "# Decide optimal k (no. of neighbours) using simple rule of thumb\n",
        "optimal_k = round(np.sqrt(len(data)))\n",
        "\n",
        "# Create a kNN classifier and fit it to data. If n_neigbors is not specified, the default value=5\n",
        "knn = KNeighborsClassifier(n_neighbors = optimal_k)\n",
        "knn.fit(x,y)\n",
        "\n",
        "\n",
        "# Predict the y labels and add to dataset\n",
        "knn.predict(x)\n",
        "data['predicted']=knn.predict(x)\n",
        "data[['Regime','predicted']]\n",
        "\n",
        "# Evaluate accuracy\n",
        "knn.score(x, y)\n"
      ],
      "metadata": {
        "id": "goATWDGr2trx"
      },
      "execution_count": null,
      "outputs": []
    },
    {
      "cell_type": "markdown",
      "source": [
        "Visualizing outcomes: confusion matrix"
      ],
      "metadata": {
        "id": "bE_i_TbZ22fK"
      }
    },
    {
      "cell_type": "code",
      "source": [
        "#Confusion matrix with raw frequencies and percentages\n",
        "cnf_matrix = metrics.confusion_matrix(data['Regime'], data['predicted'])  #real, then predicted\n",
        "cnf_matrix\n"
      ],
      "metadata": {
        "id": "6yFtrXOa24YV"
      },
      "execution_count": null,
      "outputs": []
    },
    {
      "cell_type": "markdown",
      "source": [
        "Visualizing outcomes: heatmap"
      ],
      "metadata": {
        "id": "iGCvWQyu3i4M"
      }
    },
    {
      "cell_type": "code",
      "source": [
        "#Heatmap with actual numbers (rows=actual labels, columns=predicted labels)\n",
        "labels = data['Regime'].unique()   #obtain labels in correct order\n",
        "\n",
        "sns.heatmap(cnf_matrix, annot=True, cmap=\"Blues\", yticklabels=labels, xticklabels=labels, annot_kws={\"size\": 15})\n",
        "plt.ylabel('Actual label')\n",
        "plt.xlabel('Predicted label')\n",
        "\n",
        "#Heatmap with percentages (rows=actual labels, columns=predicted labels)\n",
        "sns.heatmap(cnf_matrix/np.sum(cnf_matrix), annot=True, cmap=\"Blues\",fmt='.2%', yticklabels=labels, xticklabels=labels, annot_kws={\"size\": 15})\n",
        "plt.ylabel('Actual label')\n",
        "plt.xlabel('Predicted label')"
      ],
      "metadata": {
        "id": "34SsGb9P3nZP"
      },
      "execution_count": null,
      "outputs": []
    },
    {
      "cell_type": "markdown",
      "source": [
        "Visualizing outcomes: classification report"
      ],
      "metadata": {
        "id": "3YULXOpg3y2K"
      }
    },
    {
      "cell_type": "code",
      "source": [
        "from sklearn.metrics import classification_report\n",
        "print(classification_report(data['Regime'],data['predicted']))\n"
      ],
      "metadata": {
        "id": "KAgBFqN634Jt"
      },
      "execution_count": null,
      "outputs": []
    },
    {
      "cell_type": "markdown",
      "source": [
        "Visualizing outcomes: scatterplots"
      ],
      "metadata": {
        "id": "7RJxda2W3-Wf"
      }
    },
    {
      "cell_type": "code",
      "source": [
        "#Scatterplots of actual vs. predicted labels\n",
        "sns.scatterplot(data,y='Happiness',x='GDP_log',hue='Regime', s=80)\n",
        "plt.title(\"Actual labels\")\n",
        "\n",
        "sns.scatterplot(data,y='Happiness',x='GDP_log',hue='predicted', s=80)\n",
        "plt.title(\"Predicted labels\")\n"
      ],
      "metadata": {
        "id": "q8ihpyoN4DZL"
      },
      "execution_count": null,
      "outputs": []
    },
    {
      "cell_type": "markdown",
      "source": [
        "Extracting 'boundary' countries"
      ],
      "metadata": {
        "id": "BTfFZMg94Kba"
      }
    },
    {
      "cell_type": "code",
      "source": [
        "\n",
        "data.loc[(data['Regime'] == 'Flawed') & (data['predicted'] =='Hybrid')]\n",
        "data.loc[(data['Regime'] == 'Hybrid') & (data['predicted'] =='Flawed')]"
      ],
      "metadata": {
        "id": "CKIX_yny4IiS"
      },
      "execution_count": null,
      "outputs": []
    },
    {
      "cell_type": "markdown",
      "source": [
        "SEMINAR 6: A MORE PRINCIPLED APPROACH TO DECIDE THE BEST K"
      ],
      "metadata": {
        "id": "lOPeA9In4xsN"
      }
    },
    {
      "cell_type": "code",
      "source": [
        "# Setup arrays to store accuracy values\n",
        "neighbors = np.arange(1, 16)\n",
        "accuracy = np.empty(len(neighbors))\n",
        "\n",
        "# Loop over different values of k, fit model, and compute accuracy\n",
        "for i, k in enumerate(neighbors):\n",
        "    knn = KNeighborsClassifier(n_neighbors=k)\n",
        "    knn.fit(x,y)\n",
        "    accuracy[i] = knn.score(x, y)\n",
        "\n",
        "# Generate plot\n",
        "plt.title('k-NN: Varying Number of Neighbors')\n",
        "plt.plot(neighbors, accuracy)\n",
        "plt.xticks(neighbors)\n",
        "plt.xlabel('Number of Neighbors')\n",
        "plt.ylabel('Accuracy')\n",
        "plt.show()\n"
      ],
      "metadata": {
        "id": "QLwTv1lS449X"
      },
      "execution_count": null,
      "outputs": []
    }
  ]
}