{
  "cells": [
    {
      "cell_type": "markdown",
      "metadata": {
        "id": "DWCPiL3_vxzk"
      },
      "source": [
        "Importing libraries and data"
      ]
    },
    {
      "cell_type": "code",
      "execution_count": 34,
      "metadata": {
        "id": "Tpokj6hmvkSM"
      },
      "outputs": [],
      "source": [
        "import numpy as np\n",
        "import pandas as pd\n",
        "import matplotlib.pyplot as plt\n",
        "import seaborn as sns\n",
        "\n",
        "from sklearn.neighbors import KNeighborsClassifier\n",
        "from sklearn import metrics\n",
        "\n",
        "data=pd.read_csv('Lecture6.csv',index_col='Country')\n",
        "\n",
        "data=pd.read_csv('https://raw.githubusercontent.com/dennistay1981/Resources/refs/heads/main/HG4054%20Language%20and%20Society%20Through%20Data%20Analytics/Lecture6.csv', index_col='Country')"
      ]
    },
    {
      "cell_type": "markdown",
      "metadata": {
        "id": "gm2UrS6L2RvS"
      },
      "source": [
        "Display all columns and rows"
      ]
    },
    {
      "cell_type": "code",
      "execution_count": null,
      "metadata": {
        "id": "TNJUeBY02W3y"
      },
      "outputs": [],
      "source": [
        "pd.set_option('display.max_rows',None)\n",
        "pd.set_option('display.max_columns',None)\n",
        "pd.set_option('display.width', 1000)\n"
      ]
    },
    {
      "cell_type": "markdown",
      "metadata": {
        "id": "nd7MpEpW2cJE"
      },
      "source": [
        "Visualizing the data"
      ]
    },
    {
      "cell_type": "code",
      "execution_count": null,
      "metadata": {
        "id": "mQIO1L0i0B62"
      },
      "outputs": [],
      "source": [
        "sns.scatterplot(data,y=\"Happiness\",x=\"GDP_pc\",hue='Regime')\n",
        "\n",
        "#log transform GDP_pc and plot again. Note that np.log takes the natural logarithm; i.e. base=Euler's number\n",
        "data['GDP_log']=np.log(data.GDP_pc)\n",
        "sns.scatterplot(data,y=\"Happiness\",x=\"GDP_log\",hue='Regime')\n"
      ]
    },
    {
      "cell_type": "markdown",
      "metadata": {
        "id": "qUwaPrAR2ZS8"
      },
      "source": [
        "Training K-NN classifier"
      ]
    },
    {
      "cell_type": "markdown",
      "metadata": {
        "id": "_pMPY5-64vkw"
      },
      "source": []
    },
    {
      "cell_type": "code",
      "execution_count": null,
      "metadata": {
        "id": "goATWDGr2trx"
      },
      "outputs": [],
      "source": [
        "# Define outcome and predictors\n",
        "y = data['Regime']\n",
        "x = data[['Happiness','GDP_log']]\n",
        "\n",
        "# Decide optimal k (no. of neighbours) using simple rule of thumb\n",
        "optimal_k = round(np.sqrt(len(data)))\n",
        "\n",
        "# Create a kNN classifier and fit it to data. If n_neigbors is not specified, the default value=5\n",
        "knn = KNeighborsClassifier(n_neighbors = optimal_k)\n",
        "knn.fit(x,y)\n",
        "\n",
        "\n",
        "# Predict the y labels and add to dataset\n",
        "knn.predict(x)\n",
        "data['predicted']=knn.predict(x)\n",
        "data[['Regime','predicted']]\n",
        "\n",
        "# Evaluate accuracy\n",
        "knn.score(x, y)\n"
      ]
    },
    {
      "cell_type": "markdown",
      "metadata": {
        "id": "bE_i_TbZ22fK"
      },
      "source": [
        "Visualizing outcomes: confusion matrix"
      ]
    },
    {
      "cell_type": "code",
      "execution_count": null,
      "metadata": {
        "id": "6yFtrXOa24YV"
      },
      "outputs": [],
      "source": [
        "#Confusion matrix with raw frequencies and percentages\n",
        "cnf_matrix = metrics.confusion_matrix(data['Regime'], data['predicted'])  #real, then predicted\n",
        "cnf_matrix\n"
      ]
    },
    {
      "cell_type": "markdown",
      "metadata": {
        "id": "iGCvWQyu3i4M"
      },
      "source": [
        "Visualizing outcomes: heatmap"
      ]
    },
    {
      "cell_type": "code",
      "execution_count": null,
      "metadata": {
        "id": "34SsGb9P3nZP"
      },
      "outputs": [],
      "source": [
        "#Heatmap with actual numbers (rows=actual labels, columns=predicted labels)\n",
        "labels = data['Regime'].unique()   #obtain labels in correct order\n",
        "\n",
        "sns.heatmap(cnf_matrix, annot=True, cmap=\"Blues\", yticklabels=labels, xticklabels=labels, annot_kws={\"size\": 15})\n",
        "plt.ylabel('Actual label')\n",
        "plt.xlabel('Predicted label')\n",
        "\n",
        "#Heatmap with percentages (rows=actual labels, columns=predicted labels)\n",
        "sns.heatmap(cnf_matrix/np.sum(cnf_matrix), annot=True, cmap=\"Blues\",fmt='.2%', yticklabels=labels, xticklabels=labels, annot_kws={\"size\": 15})\n",
        "plt.ylabel('Actual label')\n",
        "plt.xlabel('Predicted label')"
      ]
    },
    {
      "cell_type": "markdown",
      "metadata": {
        "id": "3YULXOpg3y2K"
      },
      "source": [
        "Visualizing outcomes: classification report"
      ]
    },
    {
      "cell_type": "code",
      "execution_count": null,
      "metadata": {
        "id": "KAgBFqN634Jt"
      },
      "outputs": [],
      "source": [
        "from sklearn.metrics import classification_report\n",
        "print(classification_report(data['Regime'],data['predicted']))\n"
      ]
    },
    {
      "cell_type": "markdown",
      "metadata": {
        "id": "7RJxda2W3-Wf"
      },
      "source": [
        "Visualizing outcomes: scatterplots"
      ]
    },
    {
      "cell_type": "code",
      "execution_count": null,
      "metadata": {
        "id": "q8ihpyoN4DZL"
      },
      "outputs": [],
      "source": [
        "#Scatterplots of actual vs. predicted labels\n",
        "sns.scatterplot(data,y='Happiness',x='GDP_log',hue='Regime', s=80)\n",
        "plt.title(\"Actual labels\")\n",
        "\n",
        "sns.scatterplot(data,y='Happiness',x='GDP_log',hue='predicted', s=80)\n",
        "plt.title(\"Predicted labels\")\n"
      ]
    },
    {
      "cell_type": "markdown",
      "metadata": {
        "id": "BTfFZMg94Kba"
      },
      "source": [
        "Extracting 'boundary' countries"
      ]
    },
    {
      "cell_type": "code",
      "execution_count": null,
      "metadata": {
        "id": "CKIX_yny4IiS"
      },
      "outputs": [],
      "source": [
        "\n",
        "data.loc[(data['Regime'] == 'Flawed') & (data['predicted'] =='Hybrid')]\n",
        "data.loc[(data['Regime'] == 'Hybrid') & (data['predicted'] =='Flawed')]"
      ]
    },
    {
      "cell_type": "markdown",
      "metadata": {
        "id": "lOPeA9In4xsN"
      },
      "source": [
        "SEMINAR 6: A MORE PRINCIPLED APPROACH TO DECIDE THE BEST K"
      ]
    },
    {
      "cell_type": "code",
      "execution_count": null,
      "metadata": {
        "id": "QLwTv1lS449X"
      },
      "outputs": [],
      "source": [
        "# Setup arrays to store accuracy values\n",
        "neighbors = np.arange(1, 16)\n",
        "accuracy = np.empty(len(neighbors))\n",
        "\n",
        "# Loop over different values of k, fit model, and compute accuracy\n",
        "for i, k in enumerate(neighbors):\n",
        "    knn = KNeighborsClassifier(n_neighbors=k)\n",
        "    knn.fit(x,y)\n",
        "    accuracy[i] = knn.score(x, y)\n",
        "\n",
        "# Generate plot\n",
        "plt.title('k-NN: Varying Number of Neighbors')\n",
        "plt.plot(neighbors, accuracy)\n",
        "plt.xticks(neighbors)\n",
        "plt.xlabel('Number of Neighbors')\n",
        "plt.ylabel('Accuracy')\n",
        "plt.show()\n"
      ]
    }
  ],
  "metadata": {
    "colab": {
      "provenance": []
    },
    "kernelspec": {
      "display_name": "Python 3",
      "name": "python3"
    },
    "language_info": {
      "name": "python"
    }
  },
  "nbformat": 4,
  "nbformat_minor": 0
}
