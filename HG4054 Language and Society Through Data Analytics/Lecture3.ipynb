{
  "nbformat": 4,
  "nbformat_minor": 0,
  "metadata": {
    "colab": {
      "provenance": []
    },
    "kernelspec": {
      "name": "python3",
      "display_name": "Python 3"
    },
    "language_info": {
      "name": "python"
    }
  },
  "cells": [
    {
      "cell_type": "markdown",
      "source": [
        "Importing libraries and data"
      ],
      "metadata": {
        "id": "DWCPiL3_vxzk"
      }
    },
    {
      "cell_type": "code",
      "execution_count": null,
      "metadata": {
        "id": "Tpokj6hmvkSM"
      },
      "outputs": [],
      "source": [
        "import pandas as pd\n",
        "import numpy as np\n",
        "import matplotlib.pyplot as plt\n",
        "import seaborn as sns\n",
        "\n",
        "data = pd.read_csv('Lecture3.csv')\n",
        "data=pd.read_csv(r'/Users/dennistay/Desktop/Lecture3.csv')\n"
      ]
    },
    {
      "cell_type": "markdown",
      "source": [
        "Setting display options"
      ],
      "metadata": {
        "id": "BofzHfGBwBkf"
      }
    },
    {
      "cell_type": "code",
      "source": [
        "pd.set_option('display.max_rows',None)\n",
        "pd.set_option('display.max_columns',10)\n",
        "pd.set_option('display.width', 1000)"
      ],
      "metadata": {
        "id": "F0RFBFTpwD7v"
      },
      "execution_count": null,
      "outputs": []
    },
    {
      "cell_type": "markdown",
      "source": [
        "Setting image properties and visual theme\n",
        "\n",
        "\n",
        "\n"
      ],
      "metadata": {
        "id": "_ssSvIGDwFcf"
      }
    },
    {
      "cell_type": "code",
      "source": [
        "from pylab import rcParams\n",
        "\n",
        "#set image size and resolution (e.g. to meet publisher requirements)\n",
        "rcParams['figure.figsize']= 6.4, 4.8  #width, height in inches (default=6.4, 4.8)\n",
        "rcParams['figure.dpi']=100   # dpi (default=100)\n",
        "\n",
        "#seaborn customizations. set_theme is the universal control, the rest are specific sub controls\n",
        "#CONTEXT options: notebook, paper, talk, poster [affects font sizes]\n",
        "#STYLE options: darkgrid , whitegrid , dark , white , ticks\n",
        "#PALETTE options: pastel, muted, bright, deep, dark, colorblind (and many more)\n",
        "sns.set_theme(context='notebook', style='darkgrid', palette='deep', font='arial', font_scale=1)\n",
        "\n",
        "sns.scatterplot(data, x='Happiness', y='GDP_pc', hue='Continent')\n",
        "\n",
        "#try defining your own palette\n",
        "my_colors = [\"orange\", \"pink\", \"red\", 'black', 'gold']\n",
        "\n",
        "sns.scatterplot(data, x='Happiness', y='GDP_pc', hue='Continent', palette=my_colors)\n",
        "\n",
        "#to reset theme\n",
        "sns.set()\n"
      ],
      "metadata": {
        "collapsed": true,
        "id": "lDs23ziGwLkB"
      },
      "execution_count": null,
      "outputs": []
    },
    {
      "cell_type": "markdown",
      "source": [
        "Histogram"
      ],
      "metadata": {
        "id": "2x6Tim0yw2gO"
      }
    },
    {
      "cell_type": "code",
      "source": [
        "sns.histplot(data=data,x='GDP_pc',color='red',bins='auto')\n",
        "plt.title(\"GDP per capita\", fontsize=12)\n",
        "\n",
        "#comparing mean vs. median gives us a good indication of skew\n",
        "np.mean(data['GDP_pc'])\n",
        "np.median(data['GDP_pc'])\n",
        "np.percentile(data['GDP_pc'], 50)\n",
        "data['GDP_pc'].describe()\n",
        "\n",
        "#Rice's rule (optimal no. of bins = cube root of no. of data points x 2)\n",
        "optimal=(len(data)) ** 0.33  * 2\n",
        "sns.histplot(data=data,x='GDP_pc',color='purple',bins=round(optimal))\n"
      ],
      "metadata": {
        "id": "1-npbPOvw3YD"
      },
      "execution_count": null,
      "outputs": []
    },
    {
      "cell_type": "markdown",
      "source": [
        "ECDF"
      ],
      "metadata": {
        "id": "BGhjFLVfw7Ni"
      }
    },
    {
      "cell_type": "code",
      "source": [
        "#using sns (the easy way)\n",
        "sns.ecdfplot(data,x='GDP_pc',color='red')\n",
        "\n",
        "#Verify reading from ECDF\n",
        "np.percentile(data.GDP_pc,80)\n",
        "\n",
        "# Writing a Python function to plot ECDF\n",
        "def ecdf(input_data):\n",
        "    # Number of data points: n\n",
        "    n = len(input_data)\n",
        "    # sort data in increasing order for the ECDF: x\n",
        "    x = np.sort(input_data)\n",
        "    # y-axis is the cumulative percentages for the ECDF: y\n",
        "    y= np.arange(1,n+1) / n\n",
        "    return x, y\n",
        "\n",
        "# Calling the function to compute ECDF for a particular data column\n",
        "x, y = ecdf(data['GDP_pc'])\n",
        "\n",
        "# Generate plot\n",
        "plt.plot(x, y, marker='.', linestyle='none',c='black')   #try 'solid', 'dotted', 'dashed'\n",
        "plt.xlabel('Pop')\n",
        "plt.ylabel('ECDF')\n",
        "plt.title('Whatever you want')\n",
        "\n",
        "\n",
        "#Plot Asia vs. Africa GDP\n",
        "AsiaGDP = data.loc[data['Continent']=='ASIAP', 'GDP_pc']\n",
        "AfricaGDP =data.loc[data['Continent']=='AFR', 'GDP_pc']\n",
        "\n",
        "x1, y1 = ecdf(AsiaGDP)\n",
        "x2, y2 = ecdf(AfricaGDP)\n",
        "\n",
        "# Generate plot\n",
        "plt.plot(x1,y1,marker='*', linestyle='none',c='purple')\n",
        "plt.plot(x2,y2,marker='.', linestyle='none',c='green')\n",
        "# Label the axes\n",
        "plt.xlabel('GDP per capita')\n",
        "plt.ylabel('ECDF')\n",
        "plt.legend(['Asia','Africa'],loc='best')\n"
      ],
      "metadata": {
        "collapsed": true,
        "id": "Pmdijf8uw8Q-"
      },
      "execution_count": null,
      "outputs": []
    },
    {
      "cell_type": "markdown",
      "source": [
        "Count plot"
      ],
      "metadata": {
        "id": "crLA_0yzv1rM"
      }
    },
    {
      "cell_type": "code",
      "source": [
        "sns.countplot(data, x='HDI')\n",
        "plt.title('Number of countries in HDI categories')\n",
        "plt.xlabel('HDI category')\n",
        "plt.ylabel('Number')\n",
        "plt.yticks(rotation=35)\n",
        "\n",
        "\n",
        "sns.countplot(data,x='HDI',palette=['green','red','orange','purple'])\n",
        "\n",
        "#A more complex count plot\n",
        "sns.countplot(data,x='HDI',hue='Continent',order=['LOW','MEDIUM','HIGH','V_HIGH'])\n"
      ],
      "metadata": {
        "id": "St-8yyx8xNzL"
      },
      "execution_count": null,
      "outputs": []
    },
    {
      "cell_type": "markdown",
      "source": [
        "Bar plot"
      ],
      "metadata": {
        "id": "A9jdGHL6xRp1"
      }
    },
    {
      "cell_type": "code",
      "source": [
        "sns.barplot(data,x='Continent',y='Happiness')\n",
        "\n",
        "sns.barplot(data,x='Continent',y='Happiness',ci=None)\n",
        "\n",
        "#if we don't set the order for the x-axis, how is the default order determined?\n",
        "sns.barplot(data,x='HDI',y='Happiness',hue='Continent')\n",
        "sns.barplot(data,x='HDI',y='Happiness',hue='Continent',order=['LOW','MEDIUM','HIGH','V_HIGH'])\n",
        "\n",
        "#catplot allows us to plot other categories along columns and rows instead\n",
        "sns.catplot(data, x='HDI', y='Happiness', col='Continent', kind='bar')\n",
        "\n",
        "\"\"\"\n",
        "Useful variants to barplot: strip plot and box plot\n",
        "\"\"\"\n",
        "sns.barplot(data,x='HDI',y='Happiness')\n",
        "sns.stripplot(data,x='HDI',y='Happiness', color='black')\n",
        "sns.boxplot(data,x='HDI',y='Happiness')\n"
      ],
      "metadata": {
        "id": "hZxfHX9exTQ3"
      },
      "execution_count": null,
      "outputs": []
    },
    {
      "cell_type": "markdown",
      "source": [
        "Scatterplot"
      ],
      "metadata": {
        "id": "ULTdhlR3xYU7"
      }
    },
    {
      "cell_type": "code",
      "source": [
        "sns.scatterplot(data,x='Happiness',y='GDP_pc')\n",
        "\n",
        "data[['Happiness','GDP_pc']].corr()\n",
        "\n",
        "\n",
        "sns.scatterplot(data,x='Happiness',y='GDP_pc',hue='Continent')\n",
        "sns.scatterplot(data,x='Life_exp',y='GDP_pc',size='Pop(m)')\n",
        "sns.scatterplot(data,x='Life_exp',y='GDP_pc',size='Pop(m)',sizes=(1, 100)) #control min and max size\n",
        "sns.scatterplot(data,x='Happiness',y='GDP_pc',hue='HDI',hue_order=['LOW','MEDIUM','HIGH','V_HIGH'])\n",
        "\n",
        "#relplot allows us to plot other categories along columns and rows instead\n",
        "sns.relplot(data,x='Happiness',y='GDP_pc', col='Continent', kind='scatter')\n",
        "\n",
        "#lmplot includes a regression line\n",
        "sns.lmplot(data,x='Happiness',y='GDP_pc')\n",
        "\n",
        "\n",
        "#axis lines to demarcate 'quadrants'\n",
        "sns.scatterplot(data,x='Happiness',y='GDP_pc',hue='HDI',hue_order=['LOW','MEDIUM','HIGH','V_HIGH'])\n",
        "plt.axhline(y=np.mean(data['GDP_pc']), color='black', linestyle='--', linewidth=1)\n",
        "plt.axvline(x=np.mean(data['Happiness']), color='black', linestyle='--', linewidth=1)\n",
        "\n"
      ],
      "metadata": {
        "id": "gNaTJogPxZxJ"
      },
      "execution_count": null,
      "outputs": []
    },
    {
      "cell_type": "markdown",
      "source": [
        "Time series plot"
      ],
      "metadata": {
        "id": "P7l6rP6uxpqm"
      }
    },
    {
      "cell_type": "code",
      "source": [
        "#https://pandas.pydata.org/pandas-docs/dev/getting_started/intro_tutorials/09_timeseries.html\n",
        "\n",
        "data2 = pd.read_csv('Covid.csv',index_col=['date'])\n",
        "\n",
        "#convert index to datetime index\n",
        "data2.index = pd.to_datetime(data2.index)\n",
        "\n",
        "#with datetime index, conveniently access certain date ranges of interest\n",
        "data2['total_cases'].plot()\n",
        "data2.loc['2021-06':'2022-01']['total_cases'].plot()\n",
        "\n",
        "\n",
        "#resampling\n",
        "data2['total_cases'].resample('M').mean()  #resample by month\n",
        "data2['total_cases'].resample('M').mean().plot()  #plot month means\n",
        "\n",
        "data2['total_cases'].resample('Y').mean()  #resample by year\n",
        "data2['total_cases'].resample('Y').mean().plot()    #plot yearly means\n",
        "\n",
        "\n"
      ],
      "metadata": {
        "id": "yfJ_4HETxqzm"
      },
      "execution_count": null,
      "outputs": []
    },
    {
      "cell_type": "markdown",
      "source": [
        "Optional: using matplotlib"
      ],
      "metadata": {
        "id": "DI5hzBZNxwM_"
      }
    },
    {
      "cell_type": "code",
      "source": [
        "#set styles (various styles available, check online)\n",
        "plt.style.use('dark_background')\n",
        "\n",
        "#Histogram\n",
        "plt.hist(data.GDP_pc, color='orange', bins=10)\n",
        "\n",
        "#Count plots\n",
        "# Extract values and labels\n",
        "sizes = data['HDI'].value_counts()\n",
        "labels = data['HDI'].value_counts().index\n",
        "# Some variants\n",
        "plt.pie(sizes, labels=labels)\n",
        "plt.bar(labels, sizes, color=['g','r','b','black'])\n",
        "\n",
        "#Bar plot\n",
        "plt.bar(data['Continent'],data['Life_exp'], color=['white'])\n",
        "\n",
        "#Scatter plot\n",
        "plt.scatter(data['Happiness'],data['Life_exp'], color=['pink'])\n",
        "\n",
        "#Time series plot\n",
        "plt.plot(data2['total_cases'], color='r')\n",
        "plt.xticks(rotation=60)\n"
      ],
      "metadata": {
        "id": "b1FRuJnUxzFT"
      },
      "execution_count": null,
      "outputs": []
    },
    {
      "cell_type": "markdown",
      "source": [
        "SEMINAR 3"
      ],
      "metadata": {
        "id": "7rhaLA2gBDlK"
      }
    },
    {
      "cell_type": "code",
      "source": [
        "data=pd.read_csv('Seminar3.csv')  #we don't need names as index this week\n",
        "\n",
        "sns.histplot(data, x='Test1', bins=round(len(data) ** .33 * 2))\n",
        "sns.histplot(data, x='Test2')\n",
        "\n",
        "sns.ecdfplot(data,x ='WorkExp')\n",
        "sns.ecdfplot(data,x ='Average')\n",
        "\n",
        "sns.ecdfplot(data,x ='Average', hue='Gender')\n",
        "\n",
        "\n",
        "sns.barplot(data,y='Average', x='Background', hue='Gender', palette=['gold','silver'])\n",
        "plt.legend(loc='upper right')\n",
        "plt.title('Average scores by background and gender')\n",
        "\n",
        "\n",
        "sns.stripplot(data,y='Average', x='Background', hue='Gender', palette=['gold','silver'])\n",
        "\n",
        "sns.boxplot(data,y='Average', x='Background', hue='Gender', palette=['gold','silver'])\n",
        "\n",
        "sns.scatterplot(data, y='Test2', x='Test1')\n",
        "sns.lmplot(data, y='Test2', x='Test1')\n",
        "\n",
        "\n",
        "\n",
        "sns.pairplot(data)\n",
        "sns.jointplot(data, x='Test1',y='Test2')"
      ],
      "metadata": {
        "id": "xmJTMaPDBJAT"
      },
      "execution_count": null,
      "outputs": []
    }
  ]
}