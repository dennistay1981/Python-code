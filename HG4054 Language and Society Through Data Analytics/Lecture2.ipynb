{
  "cells": [
    {
      "cell_type": "markdown",
      "metadata": {
        "id": "eRmL0HnY6tBu"
      },
      "source": [
        "Importing Python libraries"
      ]
    },
    {
      "cell_type": "code",
      "execution_count": 2,
      "metadata": {
        "id": "j_Rd_cow6IMr"
      },
      "outputs": [],
      "source": [
        "import pandas as pd\n",
        "import numpy as np\n",
        "import matplotlib.pyplot as plt\n",
        "import seaborn as sns"
      ]
    },
    {
      "cell_type": "markdown",
      "metadata": {
        "id": "vmT5aJKI7CIY"
      },
      "source": [
        "Hans Rosling visualization demo"
      ]
    },
    {
      "cell_type": "code",
      "execution_count": null,
      "metadata": {
        "id": "LkhOVRHL8ZHP"
      },
      "outputs": [],
      "source": [
        "data=pd.read_csv('Rosling.csv',index_col='Country')\n",
        "\n",
        "#import by specifying the path where the file is\n",
        "data=pd.read_csv(r'/Users/dennistay/Desktop/Rosling.csv')\n",
        "data=pd.read_csv(r'C:\\Users\\DENNIS.TAYZM\\Desktop\\Rosling.csv')\n",
        "\n",
        "#import directly from my Github\n",
        "data=pd.read_csv('https://raw.githubusercontent.com/dennistay1981/Resources/refs/heads/main/HG4054%20Language%20and%20Society%20Through%20Data%20Analytics/Rosling.csv')\n",
        "\n",
        "#a bar and stripplot\n",
        "sns.barplot(data,y='GDP_pc',x='Continent',ci=False)\n",
        "sns.stripplot(data,y='GDP_pc',x='Continent', color='purple')\n",
        "plt.title(\"Bar and stripplot demo\",fontsize=12)\n",
        "plt.show()\n"
      ]
    },
    {
      "cell_type": "markdown",
      "metadata": {
        "id": "morElN5b8JdW"
      },
      "source": [
        "Advanced visualization\n"
      ]
    },
    {
      "cell_type": "code",
      "execution_count": null,
      "metadata": {
        "id": "_JpbShKH8reY"
      },
      "outputs": [],
      "source": [
        "data=pd.read_csv('Rosling_demo.csv',index_col='Country')\n",
        "\n",
        "#Import directly from my Github\n",
        "data=pd.read_csv('https://raw.githubusercontent.com/dennistay1981/Resources/refs/heads/main/HG4054%20Language%20and%20Society%20Through%20Data%20Analytics/Rosling_demo.csv', index_col='Country')\n",
        "\n",
        "\n",
        "\n",
        "sns.scatterplot(data,y='GDP_pc',x='Life_exp',hue=\"Continent\",size='Pop(m)')\n",
        "#more complex annotation code\n",
        "for i in range(len(data)):\n",
        "    plt.text(x=data.Life_exp[i]-0.2, y=data.GDP_pc[i]+0.2, s=data.index[i], size=6)\n",
        "\n",
        "plt.xticks(fontsize=10, rotation=0)\n",
        "plt.yticks(fontsize=10, rotation=0)\n",
        "plt.legend(title='Legend',fontsize='small', title_fontsize='12')\n",
        "plt.xlabel(\"Life expectancy\",fontsize=12)\n",
        "plt.ylabel(\"GDP_pc\",fontsize=12)\n",
        "plt.xlim(data.Life_exp.min()-1,data.Life_exp.max()+5)\n",
        "plt.ylim(data.GDP_pc.min()-1000,data.GDP_pc.max()+5000)\n",
        "plt.title(\"Annotated scatterplot demo\",fontsize=12)\n",
        "plt.show()\n"
      ]
    },
    {
      "cell_type": "markdown",
      "metadata": {
        "id": "NXXZYAeZ8oKC"
      },
      "source": [
        "Importing Excel spreadsheet"
      ]
    },
    {
      "cell_type": "code",
      "execution_count": null,
      "metadata": {
        "collapsed": true,
        "id": "yTaGIt8v8qbR"
      },
      "outputs": [],
      "source": [
        "#import data file in csv format, setting no index column\n",
        "data = pd.read_csv('Rosling.csv',index_col=None)\n",
        "\n",
        "#import data file in csv format, setting an index column\n",
        "data = pd.read_csv('Rosling.csv',index_col='Country')\n",
        "\n",
        "#import data file in xlsx format\n",
        "data = pd.read_excel('Filename.xlsx',index_col=None)\n",
        "\n",
        "#import by specifying the path where the file is\n",
        "data = pd.read_csv(r'/Users/dennistay/Desktop/Rosling.csv')\n",
        "data=pd.read_csv(r'C:\\Users\\DENNIS.TAYZM\\Desktop\\Rosling.csv')\n",
        "\n",
        "#import directly from my Github\n",
        "data=pd.read_csv('https://raw.githubusercontent.com/dennistay1981/Resources/refs/heads/main/HG4054%20Language%20and%20Society%20Through%20Data%20Analytics/Rosling.csv')\n",
        "\n",
        "#display options for columns and rows\n",
        "pd.set_option('display.max_rows',None)\n",
        "pd.set_option('display.max_columns',None)\n",
        "pd.set_option('display.width',300)\n"
      ]
    },
    {
      "cell_type": "markdown",
      "metadata": {
        "id": "T2GiTvVY-K1P"
      },
      "source": [
        "Overview of dataframe"
      ]
    },
    {
      "cell_type": "code",
      "execution_count": null,
      "metadata": {
        "id": "SBkAXAm36_h2"
      },
      "outputs": [],
      "source": [
        "data\n",
        "len(data)\n",
        "data.head()\n",
        "data.columns\n",
        "data.describe()\n",
        "data.describe(include='all')\n",
        "data.info()\n",
        "\n",
        "data.corr()\n",
        "data[['Happiness','GDP_pc','Pop(m)']].corr()\n",
        "\n",
        "\n",
        "#save dataframe to csv (in 'content')\n",
        "newdata=pd.DataFrame(np.random.normal(50,10,20),columns=['test'])   #generate random dataframe\n",
        "newdata\n",
        "newdata.to_csv('testing.csv')\n",
        "\n",
        "#save to specified path\n",
        "newdata.to_csv(r'C:\\Users\\DENNIS.TAYZM\\desktop\\testing.csv')\n",
        "\n"
      ]
    },
    {
      "cell_type": "markdown",
      "metadata": {
        "id": "3qRmpe2C6tDP"
      },
      "source": [
        "Dataframe management: LOC method (label-based)"
      ]
    },
    {
      "cell_type": "code",
      "execution_count": null,
      "metadata": {
        "id": "Ljgv3bHhDPcp"
      },
      "outputs": [],
      "source": [
        "# locate COLUMNS only\n",
        "data['Continent']\n",
        "data[['Continent','Happiness']]\n",
        "\n",
        "subset = data[['Continent','Happiness']]\n",
        "\n",
        "\n",
        "#locate ROWS with INDEX LABELS - usually a string, date, or integer that conveniently identifies the data\n",
        "data=pd.read_csv('Rosling.csv',index_col='Country')  #we set index to 'Country'\n",
        "data.index\n",
        "\n",
        "data.loc['Singapore']\n",
        "data.loc[['Malaysia','Singapore']]  #MY and SG\n",
        "data.loc['Malaysia':'Singapore']   #MY to SG\n",
        "data.loc['Singapore':'Malaysia']    #??\n",
        "\n",
        "\n",
        "#locate rows and columns [ROW, COLUMN]\n",
        "data.loc['China', 'Pop(m)']       #Now we know why data.loc['Malaysia','Singapore'] without inner brackets is wrong\n",
        "data.loc['China', ['Pop(m)','Continent']]\n",
        "data.loc[['Angola','China'], ['Pop(m)','Continent']]\n",
        "data.loc['Angola':'China', ['Pop(m)','Continent']]\n",
        "\n",
        "#locate rows and columns based on CONDITIONS\n",
        "data.loc[data['Life_exp'] >= 80]\n",
        "data.loc[data['Happiness'] == data['Happiness'].max()]\n",
        "data.loc[data['Happiness'] == data['Happiness'].min()]\n",
        "\n",
        "#AND (fulfil multiple conditions)\n",
        "data.loc[(data['Life_exp'] >= 80) & (data['Continent']=='ASIAP')]\n",
        "data.loc[(data['Life_exp'] >= 80) & (data['Continent']=='ASIAP') & (data['GDP_pc'] > 50000)]\n",
        "\n",
        "#OR (fulfil at least one condition)\n",
        "data.loc[(data['Life_exp'] >= 80) | (data['Continent']=='ASIAP')]\n",
        "data.loc[data['Life_exp'] >= 80, ['Continent']] #View selected columns for rows that satisfy condition\n"
      ]
    },
    {
      "cell_type": "markdown",
      "metadata": {
        "id": "Asrz1d7MDIsK"
      },
      "source": [
        "Dataframe management: ILOC method (integer position-based)"
      ]
    },
    {
      "cell_type": "code",
      "execution_count": null,
      "metadata": {
        "id": "DYi3fIcLBHPz"
      },
      "outputs": [],
      "source": [
        "data=pd.read_csv('Rosling.csv')\n",
        "data.index  #our index is now just integers because we did not specify index_col='Country'\n",
        "\n",
        "data.loc['China']  #This now returns an error because rows are no longer indexed by names\n",
        "data.loc[0]  #Instead, rows are indexed by integers\n",
        "\n",
        "data.loc[0, 'Pop(m)']  #We can still access columns with labels as before\n",
        "data.loc[[0,3],['Pop(m)','Country']]\n",
        "data.loc[0:3,['Pop(m)','Country']]\n",
        "\n",
        "#we can use ONLY integers regardless of type of index\n",
        "data.iloc[0]  #the first row\n",
        "data.iloc[-1]  #the last row\n",
        "data.iloc[[0,3]] #row 0 and row 3\n",
        "data.iloc[0:3]  #row 0 to row 2. Notice that the range is EXCLUSIVE of the endpoint\n",
        "\n",
        "subset = data.iloc[0:3]\n",
        "\n",
        "\n",
        "#locate rows and columns [ROW, COLUMN]\n",
        "data.iloc[0, 1]  #row 0, column 1\n",
        "data.iloc[0, -1]  #row 0, last column\n",
        "\n",
        "data.iloc[[0, 3], 0]  #row 0 and 3,  column 0\n",
        "data.iloc[0:3, 0]  #row 0 to 2, column 0\n",
        "data.iloc[0:3, 0:3]  #range of rows and columns\n",
        "data.iloc[0:3, [0,3]]  #range of rows, selection of columns\n",
        "\n",
        "#the : operator\n",
        "data.iloc[10:] #row 10 onwards\n",
        "data.iloc[:10]  #all rows before 10\n",
        "data.iloc[:] #all rows (i.e. the whole dataframe)\n",
        "\n",
        "data.iloc[10:, 3:] #row 10 onwards, column 3 onwards\n",
        "data.iloc[10:, :3] #row 10 onwards, all columns before 3\n",
        "data.iloc[:,1:5]  #all rows, selected columns. Very useful for selecting certain features only for analysis\n",
        "data.iloc[:,:]  #all rows, all columns (i.e. the whole dataframe)\n",
        "\n",
        "\n"
      ]
    },
    {
      "cell_type": "markdown",
      "metadata": {
        "id": "JEdWeaEPBEWu"
      },
      "source": [
        "Dataframe manipulation\n"
      ]
    },
    {
      "cell_type": "code",
      "execution_count": null,
      "metadata": {
        "id": "QbgJsf9CBhLf"
      },
      "outputs": [],
      "source": [
        "\"\"\"\n",
        "1. Creating a new column\n",
        "2. Deleting columns and rows\n",
        "3. Renaming columns\n",
        "4. Replacing contents\n",
        "5. Sorting values\n",
        "5. Grouping and aggregating data\n",
        "\"\"\"\n",
        "\n",
        "#Creating a new column\n",
        "data[\"Total_GDP(m)\"] = data[\"GDP_pc\"]*data['Pop(m)']\n",
        "data['Country_ab'] = data['Country'].str.slice(0,3)\n",
        "\n",
        "\n",
        "#Deleting a column and row\n",
        "data.drop(columns=['Continent'])   #drop column by name\n",
        "data.drop(0)  #drop row by index (i.e. row 0, or name if name=index column)\n",
        "data.dropna()  #drop all missing data\n",
        "data.iloc[:,1:]     #using ILOC to 'drop' the first column, keeping all rows\n",
        "\n",
        "\n",
        "#Renaming columns\n",
        "data.rename(columns={\"Continent\": \"Region\"},inplace=True)\n",
        "data.rename(columns={\"Region\": \"Continent\"},inplace=True)\n",
        "\n",
        "#Replacing contents. If replacing numbers (i.e. non-strings), remove colon\n",
        "data['Continent'].replace('ASIAP', 'ASP',inplace=True)\n",
        "\n",
        "\n",
        "#Sorting values by column. If ties in the first column, second column is used as a tie-breaker\n",
        "data.sort_values('Life_exp', ascending=False)\n",
        "data.sort_values(['Life_exp','Happiness'], ascending=False)\n",
        "\n",
        "\n",
        "#Grouping and aggregating data\n",
        "data.groupby('Continent').size()\n",
        "data.groupby('Continent')['GDP_pc'].mean()\n",
        "data.groupby('Continent')['GDP_pc'].median()\n",
        "data.groupby('Continent')['GDP_pc'].std()\n",
        "data.groupby('Continent').max()   #this does not mean Zimbabwe has pop 206.139...rather, each value is the 'maximum' in the corresponding continent\n",
        "data.groupby('Continent').min()\n"
      ]
    },
    {
      "cell_type": "markdown",
      "metadata": {
        "id": "wCD1nhrcBhAQ"
      },
      "source": [
        "SEMINAR 2"
      ]
    },
    {
      "cell_type": "code",
      "execution_count": null,
      "metadata": {
        "id": "rxzV29jeBl0s"
      },
      "outputs": [],
      "source": [
        "data=pd.read_csv('Seminar2.csv', index_col='Name')\n",
        "\n",
        "data=pd.read_csv('https://raw.githubusercontent.com/dennistay1981/Resources/refs/heads/main/HG4054%20Language%20and%20Society%20Through%20Data%20Analytics/Seminar2.csv', index_col='Name')\n",
        "\n",
        "\"\"\"\n",
        "Different ways to get mean of WorkExp\n",
        "\"\"\"\n",
        "data.describe()\n",
        "data['WorkExp'].describe()\n",
        "data['WorkExp'].mean()\n",
        "np.mean(data['WorkExp'])\n",
        "\n",
        "\n",
        "\n",
        "\"\"\"\n",
        "New df with only WorkExp and Background.\n",
        "No need to use loc/iloc since we're selecting all rows\n",
        "\"\"\"\n",
        "new_data=data[['WorkExp','Background']]\n",
        "\n",
        "#if you want to use loc or iloc...\n",
        "new_data=data.loc[:, ['WorkExp','Background']]\n",
        "new_data=data.iloc[:, [2,0]]\n",
        "\n",
        "\n",
        "\"\"\"\n",
        "Create new column showing average score\n",
        "\"\"\"\n",
        "data['Avg'] = (data['Test1'] + data['Test2']) / 2\n",
        "\n",
        "#can we do this? Why not?\n",
        "data['Avg'] = np.mean(data[['Test1','Test2']])\n",
        "data['Avg'] = np.mean(data[['Test1','Test2']], axis=1)  #axis=0 --> operate along rows, axis=1 --> along columns. The default is axis=0\n",
        "\n",
        "\n",
        "\"\"\"\n",
        "Create new column showing higher score from the two tests\n",
        "\"\"\"\n",
        "#Prompt AI with something like \"select the larger of two values from two columns and enter the value in a new column\"\n",
        "data['Higher'] = data[['Test1', 'Test2']].max(axis=1)\n",
        "\n",
        "\n",
        "\n",
        "\"\"\"\n",
        "Show the correlation between work experience and average scores, for each of the four backgrounds\n",
        "\"\"\"\n",
        "data.groupby('Background')[['WorkExp','Avg']].corr()\n",
        "\n",
        "data[['WorkExp','Avg']].corr() #without grouping\n",
        "\n",
        "\n",
        "\"\"\"\n",
        "Filter out applicants with an average score of at least 80\n",
        "\"\"\"\n",
        "data.loc[data['Avg']>=80]\n",
        "\n",
        "\n",
        "\n",
        "\"\"\"\n",
        "Save this filtered list to a new Excel file, and make sure you can find and open it\n",
        "\"\"\"\n",
        "filtered = data.loc[data['Avg']>=80]\n",
        "\n",
        "filtered.to_excel('filtered.xlsx')\n",
        "\n",
        "filtered.to_csv('filtered.csv')\n",
        "\n",
        "#can also combine the filtering and saving to csv in one step\n",
        "data.loc[data['Avg']>=80].to_csv('filtered.csv')"
      ]
    }
  ],
  "metadata": {
    "colab": {
      "provenance": []
    },
    "kernelspec": {
      "display_name": "Python 3",
      "name": "python3"
    },
    "language_info": {
      "codemirror_mode": {
        "name": "ipython",
        "version": 3
      },
      "file_extension": ".py",
      "mimetype": "text/x-python",
      "name": "python",
      "nbconvert_exporter": "python",
      "pygments_lexer": "ipython3",
      "version": "3.10.13"
    }
  },
  "nbformat": 4,
  "nbformat_minor": 0
}
