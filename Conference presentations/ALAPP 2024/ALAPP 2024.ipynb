{
  "nbformat": 4,
  "nbformat_minor": 0,
  "metadata": {
    "colab": {
      "provenance": [],
      "authorship_tag": "ABX9TyNfE9TyBDI4prpFluytYTwc",
      "include_colab_link": true
    },
    "kernelspec": {
      "name": "python3",
      "display_name": "Python 3"
    },
    "language_info": {
      "name": "python"
    }
  },
  "cells": [
    {
      "cell_type": "markdown",
      "metadata": {
        "id": "view-in-github",
        "colab_type": "text"
      },
      "source": [
        "<a href=\"https://colab.research.google.com/github/dennistay1981/Resources/blob/main/Conference%20presentations/ALAPP%202024/ALAPP%202024.ipynb\" target=\"_parent\"><img src=\"https://colab.research.google.com/assets/colab-badge.svg\" alt=\"Open In Colab\"/></a>"
      ]
    },
    {
      "cell_type": "markdown",
      "source": [
        "Import libraries"
      ],
      "metadata": {
        "id": "pmaEdx7CxhkJ"
      }
    },
    {
      "cell_type": "code",
      "execution_count": 2,
      "metadata": {
        "id": "SiJcZGmcqjU0"
      },
      "outputs": [],
      "source": [
        "!pip install pmdarima\n",
        "import pandas as pd\n",
        "import seaborn as sns\n",
        "import matplotlib.pyplot as plt\n",
        "import numpy as np\n",
        "from statsmodels.tsa.stattools import acf, pacf\n",
        "from statsmodels.graphics.tsaplots import plot_acf, plot_pacf\n",
        "import statsmodels.api as sm\n",
        "from pmdarima import auto_arima\n",
        "from sklearn.metrics import mean_absolute_percentage_error, r2_score"
      ]
    },
    {
      "cell_type": "markdown",
      "source": [
        "Import and plot data"
      ],
      "metadata": {
        "id": "3RfolwMPxbx5"
      }
    },
    {
      "cell_type": "code",
      "source": [
        "data = pd.read_csv('https://raw.githubusercontent.com/dennistay1981/Resources/refs/heads/main/Conference%20presentations/ALAPP%202024/LIWC.csv')\n",
        "\n",
        "plt.figure(figsize=(12, 6))\n",
        "plt.plot(data.iloc[:,2:6])\n",
        "plt.legend(data.columns[2:6])\n",
        "plt.title('LIWC summary variables')"
      ],
      "metadata": {
        "collapsed": true,
        "id": "j8tBv8mBqwNH"
      },
      "execution_count": null,
      "outputs": []
    },
    {
      "cell_type": "markdown",
      "source": [
        "Compute and plot (P)ACF for specified feature/series"
      ],
      "metadata": {
        "id": "4DfpPe3qxKzR"
      }
    },
    {
      "cell_type": "code",
      "source": [
        "series=data['Authentic']  #change to series=data['Tone'] or any other feature of interest\n",
        "\n",
        "lag_acf = acf(series, nlags=20)\n",
        "lag_pacf = pacf(series, nlags=20, method='ols')\n",
        "\n",
        "\n",
        "plt.figure(figsize=(8, 4))\n",
        "plt.subplot(121)\n",
        "plot_acf(series, lags=20, ax=plt.gca())\n",
        "plt.subplot(122)\n",
        "plot_pacf(series, lags=20, method='ols', ax=plt.gca())\n",
        "plt.show()"
      ],
      "metadata": {
        "id": "1vX9s7_irF6J",
        "collapsed": true
      },
      "execution_count": null,
      "outputs": []
    },
    {
      "cell_type": "markdown",
      "source": [
        "Auto fit best ARIMA model"
      ],
      "metadata": {
        "id": "wlHR5UCsxDq5"
      }
    },
    {
      "cell_type": "code",
      "source": [
        "model = auto_arima(series, start_p=0, start_q=0, test='adf', max_p=3, max_q=3, d=None,seasonal=True,\n",
        "                      start_P=0, D=None, trace=True,  error_action='ignore', suppress_warnings=True,\n",
        "                      stepwise=True)\n",
        "\n",
        "print(model.summary())\n",
        "\n",
        "predictions = model.predict_in_sample()"
      ],
      "metadata": {
        "collapsed": true,
        "id": "B6aRdncUswSi"
      },
      "execution_count": null,
      "outputs": []
    },
    {
      "cell_type": "markdown",
      "source": [
        "Fit a model manually and predict"
      ],
      "metadata": {
        "id": "Qnbklfmz3cTF"
      }
    },
    {
      "cell_type": "code",
      "source": [
        "model=sm.tsa.SARIMAX(series,order=(0,0,1),seasonal_order = (0,0,0,0), trend='c').fit()   #seasonal_order = (P, D, Q, m)\n",
        "model.summary()\n",
        "\n",
        "predictions= model.get_prediction(start=0, end=len(series)-1).predicted_mean"
      ],
      "metadata": {
        "collapsed": true,
        "id": "QsUz_AP83WKx"
      },
      "execution_count": null,
      "outputs": []
    },
    {
      "cell_type": "markdown",
      "source": [
        "Plot data vs. predictions and evaluate model"
      ],
      "metadata": {
        "id": "j9LA-Tvow52C"
      }
    },
    {
      "cell_type": "code",
      "source": [
        "#Create axes\n",
        "x1 =np.arange(0, len(series))\n",
        "x3= np.arange(0, len(series))\n",
        "\n",
        "plt.plot(x3,series, label=\"actual\", color='dodgerblue')\n",
        "plt.plot(x1,predictions, label=\"predictions\",color='orange')\n",
        "plt.legend()\n",
        "plt.title('Actual vs. predicted')\n",
        "plt.show()\n",
        "\n",
        "\n",
        "print(\"RMSE:\", np.sqrt(np.mean((series -predictions) ** 2)))\n",
        "print(\"MAPE:\", mean_absolute_percentage_error(series, predictions) )\n",
        "print(\"R2:\", r2_score(series, predictions))\n"
      ],
      "metadata": {
        "id": "JMqEMUYQtWRK"
      },
      "execution_count": null,
      "outputs": []
    },
    {
      "cell_type": "markdown",
      "source": [
        "Optional: Remove first value of series and predictions if the latter is zero, and then replot/re-evaluate"
      ],
      "metadata": {
        "id": "Lh9RePv5CYOu"
      }
    },
    {
      "cell_type": "code",
      "source": [
        "predictions = predictions[1:]\n",
        "series = series[1:]\n",
        "\n",
        "\n",
        "x1 =np.arange(0, len(series))\n",
        "x3= np.arange(0, len(series))\n",
        "\n",
        "plt.plot(x3,series, label=\"actual\", color='dodgerblue')\n",
        "plt.plot(x1,predictions, label=\"predictions\",color='orange')\n",
        "plt.legend()\n",
        "plt.title('Actual vs. predicted)')\n",
        "plt.show()\n",
        "\n",
        "\n",
        "print(\"RMSE:\", np.sqrt(np.mean((series -predictions) ** 2)))\n",
        "print(\"MAPE:\", mean_absolute_percentage_error(series, predictions) )\n",
        "print(\"R2:\", r2_score(series, predictions))\n",
        "print(\"AIC:\", model.aic())"
      ],
      "metadata": {
        "id": "x-AingjmCFtC",
        "collapsed": true
      },
      "execution_count": null,
      "outputs": []
    }
  ]
}