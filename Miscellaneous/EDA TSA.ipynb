{
  "nbformat": 4,
  "nbformat_minor": 0,
  "metadata": {
    "colab": {
      "provenance": [],
      "authorship_tag": "ABX9TyOkoj4/rOWc+xImMR9sRt/Y",
      "include_colab_link": true
    },
    "kernelspec": {
      "name": "python3",
      "display_name": "Python 3"
    },
    "language_info": {
      "name": "python"
    }
  },
  "cells": [
    {
      "cell_type": "markdown",
      "metadata": {
        "id": "view-in-github",
        "colab_type": "text"
      },
      "source": [
        "<a href=\"https://colab.research.google.com/github/dennistay1981/Resources/blob/main/Miscellaneous/EDA%20TSA.ipynb\" target=\"_parent\"><img src=\"https://colab.research.google.com/assets/colab-badge.svg\" alt=\"Open In Colab\"/></a>"
      ]
    },
    {
      "cell_type": "markdown",
      "source": [
        "Import libraries"
      ],
      "metadata": {
        "id": "pmaEdx7CxhkJ"
      }
    },
    {
      "cell_type": "code",
      "execution_count": 1,
      "metadata": {
        "id": "SiJcZGmcqjU0",
        "outputId": "6722db4d-0bd1-4a63-93d9-d5bacb76a693",
        "colab": {
          "base_uri": "https://localhost:8080/"
        }
      },
      "outputs": [
        {
          "output_type": "stream",
          "name": "stdout",
          "text": [
            "Collecting pmdarima\n",
            "  Downloading pmdarima-2.0.4-cp311-cp311-manylinux_2_17_x86_64.manylinux2014_x86_64.manylinux_2_28_x86_64.whl.metadata (7.8 kB)\n",
            "Requirement already satisfied: joblib>=0.11 in /usr/local/lib/python3.11/dist-packages (from pmdarima) (1.4.2)\n",
            "Requirement already satisfied: Cython!=0.29.18,!=0.29.31,>=0.29 in /usr/local/lib/python3.11/dist-packages (from pmdarima) (3.0.11)\n",
            "Requirement already satisfied: numpy>=1.21.2 in /usr/local/lib/python3.11/dist-packages (from pmdarima) (1.26.4)\n",
            "Requirement already satisfied: pandas>=0.19 in /usr/local/lib/python3.11/dist-packages (from pmdarima) (2.2.2)\n",
            "Requirement already satisfied: scikit-learn>=0.22 in /usr/local/lib/python3.11/dist-packages (from pmdarima) (1.6.0)\n",
            "Requirement already satisfied: scipy>=1.3.2 in /usr/local/lib/python3.11/dist-packages (from pmdarima) (1.13.1)\n",
            "Requirement already satisfied: statsmodels>=0.13.2 in /usr/local/lib/python3.11/dist-packages (from pmdarima) (0.14.4)\n",
            "Requirement already satisfied: urllib3 in /usr/local/lib/python3.11/dist-packages (from pmdarima) (2.3.0)\n",
            "Requirement already satisfied: setuptools!=50.0.0,>=38.6.0 in /usr/local/lib/python3.11/dist-packages (from pmdarima) (75.1.0)\n",
            "Requirement already satisfied: packaging>=17.1 in /usr/local/lib/python3.11/dist-packages (from pmdarima) (24.2)\n",
            "Requirement already satisfied: python-dateutil>=2.8.2 in /usr/local/lib/python3.11/dist-packages (from pandas>=0.19->pmdarima) (2.8.2)\n",
            "Requirement already satisfied: pytz>=2020.1 in /usr/local/lib/python3.11/dist-packages (from pandas>=0.19->pmdarima) (2024.2)\n",
            "Requirement already satisfied: tzdata>=2022.7 in /usr/local/lib/python3.11/dist-packages (from pandas>=0.19->pmdarima) (2024.2)\n",
            "Requirement already satisfied: threadpoolctl>=3.1.0 in /usr/local/lib/python3.11/dist-packages (from scikit-learn>=0.22->pmdarima) (3.5.0)\n",
            "Requirement already satisfied: patsy>=0.5.6 in /usr/local/lib/python3.11/dist-packages (from statsmodels>=0.13.2->pmdarima) (1.0.1)\n",
            "Requirement already satisfied: six>=1.5 in /usr/local/lib/python3.11/dist-packages (from python-dateutil>=2.8.2->pandas>=0.19->pmdarima) (1.17.0)\n",
            "Downloading pmdarima-2.0.4-cp311-cp311-manylinux_2_17_x86_64.manylinux2014_x86_64.manylinux_2_28_x86_64.whl (2.2 MB)\n",
            "\u001b[2K   \u001b[90m━━━━━━━━━━━━━━━━━━━━━━━━━━━━━━━━━━━━━━━━\u001b[0m \u001b[32m2.2/2.2 MB\u001b[0m \u001b[31m29.0 MB/s\u001b[0m eta \u001b[36m0:00:00\u001b[0m\n",
            "\u001b[?25hInstalling collected packages: pmdarima\n",
            "Successfully installed pmdarima-2.0.4\n"
          ]
        }
      ],
      "source": [
        "!pip install pmdarima\n",
        "import pandas as pd\n",
        "import seaborn as sns\n",
        "import matplotlib.pyplot as plt\n",
        "import numpy as np\n",
        "from statsmodels.tsa.stattools import acf, pacf\n",
        "from statsmodels.graphics.tsaplots import plot_acf, plot_pacf\n",
        "from pmdarima import auto_arima\n",
        "from sklearn.metrics import mean_absolute_percentage_error\n",
        "from sklearn.metrics import r2_score\n",
        "from sklearn.preprocessing import MinMaxScaler"
      ]
    },
    {
      "cell_type": "markdown",
      "source": [
        "Import, scale, resample, and plot data"
      ],
      "metadata": {
        "id": "3RfolwMPxbx5"
      }
    },
    {
      "cell_type": "code",
      "source": [
        "#Import data\n",
        "data = pd.read_csv('test.csv', index_col='Time')\n",
        "data.index = pd.to_datetime(data.index)\n",
        "\n",
        "\n",
        "#Scale data\n",
        "scaler = MinMaxScaler()\n",
        "data['scaled'] = scaler.fit_transform(data['SCL'].values.reshape(-1, 1))\n",
        "\n",
        "#Resample data by seconds\n",
        "series = data['scaled'].resample('s').mean()\n",
        "\n",
        "# Plot data\n",
        "plt.figure(figsize=(12, 6))\n",
        "plt.plot(series)\n",
        "plt.title('Resampled Data (Seconds)')\n",
        "plt.show()\n"
      ],
      "metadata": {
        "collapsed": true,
        "id": "j8tBv8mBqwNH",
        "outputId": "7c4d1307-9438-45d7-e45e-86de9254d5bf",
        "colab": {
          "base_uri": "https://localhost:8080/",
          "height": 283
        }
      },
      "execution_count": 4,
      "outputs": [
        {
          "output_type": "stream",
          "name": "stderr",
          "text": [
            "<ipython-input-4-012e05f68126>:3: UserWarning: Could not infer format, so each element will be parsed individually, falling back to `dateutil`. To ensure parsing is consistent and as-expected, please specify a format.\n",
            "  data.index = pd.to_datetime(data.index)\n"
          ]
        },
        {
          "output_type": "error",
          "ename": "NameError",
          "evalue": "name 'series' is not defined",
          "traceback": [
            "\u001b[0;31m---------------------------------------------------------------------------\u001b[0m",
            "\u001b[0;31mNameError\u001b[0m                                 Traceback (most recent call last)",
            "\u001b[0;32m<ipython-input-4-012e05f68126>\u001b[0m in \u001b[0;36m<cell line: 0>\u001b[0;34m()\u001b[0m\n\u001b[1;32m     13\u001b[0m \u001b[0;31m# Plot data\u001b[0m\u001b[0;34m\u001b[0m\u001b[0;34m\u001b[0m\u001b[0m\n\u001b[1;32m     14\u001b[0m \u001b[0mplt\u001b[0m\u001b[0;34m.\u001b[0m\u001b[0mfigure\u001b[0m\u001b[0;34m(\u001b[0m\u001b[0mfigsize\u001b[0m\u001b[0;34m=\u001b[0m\u001b[0;34m(\u001b[0m\u001b[0;36m12\u001b[0m\u001b[0;34m,\u001b[0m \u001b[0;36m6\u001b[0m\u001b[0;34m)\u001b[0m\u001b[0;34m)\u001b[0m\u001b[0;34m\u001b[0m\u001b[0;34m\u001b[0m\u001b[0m\n\u001b[0;32m---> 15\u001b[0;31m \u001b[0mplt\u001b[0m\u001b[0;34m.\u001b[0m\u001b[0mplot\u001b[0m\u001b[0;34m(\u001b[0m\u001b[0mseries\u001b[0m\u001b[0;34m)\u001b[0m\u001b[0;34m\u001b[0m\u001b[0;34m\u001b[0m\u001b[0m\n\u001b[0m\u001b[1;32m     16\u001b[0m \u001b[0mplt\u001b[0m\u001b[0;34m.\u001b[0m\u001b[0mtitle\u001b[0m\u001b[0;34m(\u001b[0m\u001b[0;34m'Resampled Data (Seconds)'\u001b[0m\u001b[0;34m)\u001b[0m\u001b[0;34m\u001b[0m\u001b[0;34m\u001b[0m\u001b[0m\n\u001b[1;32m     17\u001b[0m \u001b[0mplt\u001b[0m\u001b[0;34m.\u001b[0m\u001b[0mshow\u001b[0m\u001b[0;34m(\u001b[0m\u001b[0;34m)\u001b[0m\u001b[0;34m\u001b[0m\u001b[0;34m\u001b[0m\u001b[0m\n",
            "\u001b[0;31mNameError\u001b[0m: name 'series' is not defined"
          ]
        },
        {
          "output_type": "display_data",
          "data": {
            "text/plain": [
              "<Figure size 1200x600 with 0 Axes>"
            ]
          },
          "metadata": {}
        }
      ]
    },
    {
      "cell_type": "markdown",
      "source": [
        "Compute and plot (P)ACF"
      ],
      "metadata": {
        "id": "4DfpPe3qxKzR"
      }
    },
    {
      "cell_type": "code",
      "source": [
        "lag_acf = acf(series, nlags=20)\n",
        "lag_pacf = pacf(series, nlags=20, method='ols')\n",
        "\n",
        "\n",
        "plt.figure(figsize=(12, 6))\n",
        "plt.subplot(121)\n",
        "plot_acf(series, lags=20, ax=plt.gca())\n",
        "plt.subplot(122)\n",
        "plot_pacf(series, lags=20, method='ols', ax=plt.gca())\n",
        "plt.title('(P)ACF for XXX condition (XXX.csv)')\n",
        "plt.show()"
      ],
      "metadata": {
        "id": "1vX9s7_irF6J",
        "collapsed": true
      },
      "execution_count": null,
      "outputs": []
    },
    {
      "cell_type": "markdown",
      "source": [
        "Auto fit best ARIMA model"
      ],
      "metadata": {
        "id": "wlHR5UCsxDq5"
      }
    },
    {
      "cell_type": "code",
      "source": [
        "model = auto_arima(series, start_p=0, start_q=0, test='adf', max_p=3, max_q=3, d=None,seasonal=True,\n",
        "                      start_P=0, D=None, trace=True,  error_action='ignore', suppress_warnings=True,\n",
        "                      stepwise=True)\n",
        "\n",
        "\n",
        "print(model.summary())"
      ],
      "metadata": {
        "collapsed": true,
        "id": "B6aRdncUswSi"
      },
      "execution_count": null,
      "outputs": []
    },
    {
      "cell_type": "markdown",
      "source": [
        "Plot data vs. predictions and evaluate model"
      ],
      "metadata": {
        "id": "j9LA-Tvow52C"
      }
    },
    {
      "cell_type": "code",
      "source": [
        "predictions = model.predict_in_sample()\n",
        "#Create axes\n",
        "x1 =np.arange(0, len(series))\n",
        "x3= np.arange(0, len(series))\n",
        "\n",
        "plt.plot(x3,series, label=\"actual\", color='dodgerblue')\n",
        "plt.plot(x1,predictions, label=\"predictions\",color='orange')\n",
        "plt.axhline(y=series.mean(), color='dodgerblue', linestyle='--', label='actual mean')\n",
        "plt.axhline(y=predictions.mean(), color='orange', linestyle='--', label='predictions mean')\n",
        "plt.legend()\n",
        "plt.title('Actual vs. predicted for XXX condition (XXX.csv)')\n",
        "plt.show()\n",
        "\n",
        "\n",
        "print(\"RMSE:\", np.sqrt(np.mean((series -predictions) ** 2)))\n",
        "print(\"MAPE:\", mean_absolute_percentage_error(series, predictions) )\n",
        "print(\"R2:\", r2_score(series, predictions))\n",
        "print(\"AIC:\", model.aic())"
      ],
      "metadata": {
        "id": "JMqEMUYQtWRK"
      },
      "execution_count": null,
      "outputs": []
    },
    {
      "cell_type": "markdown",
      "source": [
        "Remove first value of series and predictions if the latter is zero, and then replot/re-evaluate"
      ],
      "metadata": {
        "id": "Lh9RePv5CYOu"
      }
    },
    {
      "cell_type": "code",
      "source": [
        "predictions = predictions[1:]\n",
        "series = series[1:]\n",
        "\n",
        "\n",
        "x1 =np.arange(0, len(series))\n",
        "x3= np.arange(0, len(series))\n",
        "\n",
        "plt.plot(x3,series, label=\"actual\", color='dodgerblue')\n",
        "plt.plot(x1,predictions, label=\"predictions\",color='orange')\n",
        "plt.axhline(y=series.mean(), color='dodgerblue', linestyle='--', label='actual mean')\n",
        "plt.axhline(y=predictions.mean(), color='orange', linestyle='--', label='predictions mean')\n",
        "plt.legend()\n",
        "plt.title('Actual vs. predicted for XXX condition (XXX.csv)')\n",
        "plt.show()\n",
        "\n",
        "\n",
        "print(\"RMSE:\", np.sqrt(np.mean((series -predictions) ** 2)))\n",
        "print(\"MAPE:\", mean_absolute_percentage_error(series, predictions) )\n",
        "print(\"R2:\", r2_score(series, predictions))\n",
        "print(\"AIC:\", model.aic())"
      ],
      "metadata": {
        "id": "x-AingjmCFtC"
      },
      "execution_count": null,
      "outputs": []
    },
    {
      "cell_type": "markdown",
      "source": [
        "Compare with SARIMAX (optional)"
      ],
      "metadata": {
        "id": "MoWS8go5MZaR"
      }
    },
    {
      "cell_type": "code",
      "source": [
        "import statsmodels.api as sm\n",
        "\n",
        "model=sm.tsa.SARIMAX(series,order=(1,1,2),seasonal_order = (0,0,0,0), trend='c').fit()   #seasonal_order = (P, D, Q, m)\n",
        "model.summary()\n",
        "\n",
        "\n",
        "#Predict\n",
        "predictions=model.predict(start=0, end=len(series)-1)\n",
        "\n",
        "#Create axes\n",
        "x1 =np.arange(0, len(series))\n",
        "x3= np.arange(0, len(series))\n",
        "\n",
        "plt.plot(x3,series, label=\"actual\", color='dodgerblue')\n",
        "plt.plot(x1,predictions, label=\"predictions\",color='orange')\n",
        "plt.legend()\n",
        "plt.title('Actual vs. predicted for XXX condition (XXX.csv)')\n",
        "plt.show()\n",
        "\n",
        "\n",
        "print(\"RMSE:\", np.sqrt(np.mean((series -predictions) ** 2)))\n",
        "print(\"MAPE:\", mean_absolute_percentage_error(series, predictions) )\n",
        "print(\"R2:\", r2_score(series, predictions))\n",
        "print(\"AIC:\", model.aic())"
      ],
      "metadata": {
        "id": "ipEvu-SiMeBS"
      },
      "execution_count": null,
      "outputs": []
    }
  ]
}