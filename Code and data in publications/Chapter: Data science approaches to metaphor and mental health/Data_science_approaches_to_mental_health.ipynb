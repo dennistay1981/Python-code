{
  "nbformat": 4,
  "nbformat_minor": 0,
  "metadata": {
    "colab": {
      "provenance": [],
      "authorship_tag": "ABX9TyMMpKxBUsj2kihDRNDR3gdU",
      "include_colab_link": true
    },
    "kernelspec": {
      "name": "python3",
      "display_name": "Python 3"
    },
    "language_info": {
      "name": "python"
    }
  },
  "cells": [
    {
      "cell_type": "markdown",
      "metadata": {
        "id": "view-in-github",
        "colab_type": "text"
      },
      "source": [
        "<a href=\"https://colab.research.google.com/github/dennistay1981/Resources/blob/main/Data_science_approaches_to_mental_health.ipynb\" target=\"_parent\"><img src=\"https://colab.research.google.com/assets/colab-badge.svg\" alt=\"Open In Colab\"/></a>"
      ]
    },
    {
      "cell_type": "markdown",
      "source": [
        "Descriptive analytics: cross-tabulating metaphor sources and targets"
      ],
      "metadata": {
        "id": "t2i6rHdXN2MT"
      }
    },
    {
      "cell_type": "code",
      "execution_count": null,
      "metadata": {
        "id": "c3ooXfiuNxoQ"
      },
      "outputs": [],
      "source": [
        "#Import libraries\n",
        "import pandas as pd\n",
        "import numpy as np\n",
        "import seaborn as sns\n",
        "import matplotlib.pyplot as plt\n",
        "from scipy.stats import chi2_contingency\n",
        "\n",
        "#Import data\n",
        "data = pd.read_csv('https://raw.githubusercontent.com/dennistay1981/Resources/refs/heads/main/Code%20and%20data%20in%20publications/Chapter%3A%20Data%20science%20approaches%20to%20metaphor%20and%20mental%20health/Descriptive.csv')\n",
        "\n",
        "# Cross-tabulation\n",
        "crosstab = pd.crosstab(data['SOURCE'], data['TARGET'])\n",
        "\n",
        "# Observed frequencies\n",
        "observed = crosstab.values\n",
        "\n",
        "# Expected frequencies\n",
        "chi2, p, dof, expected = chi2_contingency(observed)\n",
        "\n",
        "# Pearson's residuals\n",
        "residuals = (observed - expected) / np.sqrt(expected)\n",
        "\n",
        "# Cramer's V\n",
        "n = observed.sum()\n",
        "phi2 = chi2 / n\n",
        "r, k = observed.shape\n",
        "phi2corr = max(0, phi2 - ((k - 1) * (r - 1)) / (n - 1))\n",
        "rcorr = r - ((r - 1)**2) / (n - 1)\n",
        "kcorr = k - ((k - 1)**2) / (n - 1)\n",
        "cramer_v = np.sqrt(phi2corr / min((kcorr - 1), (rcorr - 1)))\n",
        "\n",
        "# Heatmap with observed frequencies\n",
        "plt.figure(figsize=(12, 8))\n",
        "sns.heatmap(crosstab, annot=True, fmt='d', cmap='Blues', cbar=True)\n",
        "plt.title('Cross-tabulation of Metaphor Sources and Targets')\n",
        "plt.xlabel('Target')\n",
        "plt.ylabel('Source')\n",
        "plt.show()\n",
        "\n",
        "# Heatmap with Pearson's residuals\n",
        "plt.figure(figsize=(12, 8))\n",
        "sns.heatmap(residuals, annot=True, fmt=\".2f\", cmap='Reds', cbar=True)\n",
        "plt.title('Pearson Residuals')\n",
        "plt.xlabel('Target')\n",
        "plt.ylabel('Source')\n",
        "plt.show()\n",
        "\n",
        "print(f\"Chi-square statistic: {chi2:.2f}\")\n",
        "print(f\"P-value: {p:.3f}\")\n",
        "print(f\"Degrees of freedom: {dof}\")\n",
        "print(f\"Cramer's V: {cramer_v:.3f}\")"
      ]
    }
  ]
}